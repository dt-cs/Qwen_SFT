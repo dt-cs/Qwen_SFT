{
  "nbformat": 4,
  "nbformat_minor": 0,
  "metadata": {
    "colab": {
      "provenance": [],
      "machine_shape": "hm",
      "gpuType": "A100",
      "authorship_tag": "ABX9TyOTRdI0w19v4wzDJpb3zwly",
      "include_colab_link": true
    },
    "kernelspec": {
      "name": "python3",
      "display_name": "Python 3"
    },
    "language_info": {
      "name": "python"
    },
    "accelerator": "GPU"
  },
  "cells": [
    {
      "cell_type": "markdown",
      "metadata": {
        "id": "view-in-github",
        "colab_type": "text"
      },
      "source": [
        "<a href=\"https://colab.research.google.com/github/dt-cs/Qwen_SFT/blob/main/Qwen3-8b_Retriever.ipynb\" target=\"_parent\"><img src=\"https://colab.research.google.com/assets/colab-badge.svg\" alt=\"Open In Colab\"/></a>"
      ]
    },
    {
      "cell_type": "code",
      "source": [
        "!pip install -U sentence-transformers transformers datasets accelerate chromadb\n",
        "!pip install \"flash-attn>=2.5.0\" --no-build-isolation"
      ],
      "metadata": {
        "collapsed": true,
        "id": "SPyluH_7MiIC"
      },
      "execution_count": null,
      "outputs": []
    },
    {
      "cell_type": "code",
      "source": [
        "import json\n",
        "\n",
        "input = \"/content/qa_with_metadata.json\"\n",
        "\n",
        "with open(input, \"r\", encoding=\"utf-8\") as f:\n",
        "    dataset = json.load(f)\n",
        "\n",
        "dataset[0]"
      ],
      "metadata": {
        "id": "1KLZB0GSZEUt"
      },
      "execution_count": null,
      "outputs": []
    },
    {
      "cell_type": "code",
      "source": [
        "# Use 'positive' field as documents\n",
        "query = [item['question'] for item in dataset]\n",
        "documents = [item['answer'] for item in dataset]\n",
        "metadata = [item['metadata'] for item in dataset]\n",
        "\n",
        "print(query[0])\n",
        "print(documents[0])\n",
        "print(query[0])"
      ],
      "metadata": {
        "id": "TKOGSG95ZdUR"
      },
      "execution_count": null,
      "outputs": []
    },
    {
      "cell_type": "code",
      "source": [
        "!pip install -U sentence-transformers\n"
      ],
      "metadata": {
        "id": "yVG-MxFAzIyk"
      },
      "execution_count": null,
      "outputs": []
    },
    {
      "cell_type": "code",
      "source": [
        "# Requires transformers>=4.51.0\n",
        "# Requires sentence-transformers>=2.7.0\n",
        "\n",
        "from sentence_transformers import SentenceTransformer\n",
        "\n",
        "\n",
        "model = SentenceTransformer(\"Qwen/Qwen3-Embedding-8B\")\n",
        "\n",
        "query_embeddings = model.encode(query)\n",
        "document_embeddings = model.encode(documents)\n",
        "\n",
        "# Compute the (cosine) similarity between the query and document embeddings\n",
        "similarity = model.similarity(query_embeddings, document_embeddings)\n",
        "print(similarity)\n",
        "# tensor([[0.7493, 0.0751],\n",
        "#         [0.0880, 0.6318]])\n"
      ],
      "metadata": {
        "id": "AwFqDvzlt2a-"
      },
      "execution_count": null,
      "outputs": []
    },
    {
      "cell_type": "code",
      "source": [
        "import chromadb\n",
        "\n",
        "# Initialize a persistent client by specifying the path\n",
        "chroma_client = chromadb.PersistentClient(path=\"./rhino_vector_store\")\n",
        "\n",
        "# Getting or creating a collection remains the same\n",
        "collection = chroma_client.get_or_create_collection(name=\"rhino_embeddings\")\n",
        "\n",
        "# Adding documents also remains the same\n",
        "collection.add(\n",
        "    documents=documents,\n",
        "    embeddings=document_embeddings.tolist(),\n",
        "    ids=[f\"doc_{i}\" for i in range(len(documents))],\n",
        "    metadatas=[{\"index\": i} for i in range(len(documents))]\n",
        ")"
      ],
      "metadata": {
        "id": "82i_nOn6bCHY"
      },
      "execution_count": 15,
      "outputs": []
    },
    {
      "cell_type": "code",
      "source": [
        "query_01 = \"create a box \"\n",
        "query_emb = model.encode(query_01)\n",
        "\n",
        "results = collection.query(\n",
        "    query_embeddings=[query_emb],\n",
        "    n_results=3\n",
        ")\n",
        "\n",
        "print(results[\"documents\"][0])\n",
        "\n"
      ],
      "metadata": {
        "colab": {
          "base_uri": "https://localhost:8080/"
        },
        "id": "QQ6OQitCg8W6",
        "outputId": "6f02cdcb-be5f-434e-fb5c-5e915ad618f2"
      },
      "execution_count": 25,
      "outputs": [
        {
          "output_type": "stream",
          "name": "stdout",
          "text": [
            "[\"The 'AddBox' method adds a box-shaped polysurface to the document. You provide a list of 8 corner points. This is useful for quickly creating box geometry:\\n\\n```python\\ncorners = [pt0, pt1, pt2, pt3, pt4, pt5, pt6, pt7]\\nbox_id = rs.AddBox(corners)\\nprint('Created box:', box_id)\\n```\", 'The AddRectangle function creates a rectangular curve in the document. You need to specify the plane in which the rectangle lies, as well as its width and height. This is commonly used for creating base shapes for modeling or for layout purposes.', 'The BoundingBox function returns the axis-aligned bounding box of one or more objects. You provide a list of object GUIDs, a view or plane for alignment, and a boolean indicating whether to use world coordinates. This is useful for spatial analysis, collision detection, or layout tasks.']\n"
          ]
        }
      ]
    },
    {
      "cell_type": "code",
      "source": [
        "query_01 = \"create a curved surface \"\n",
        "query_emb = model.encode(query_01)\n",
        "\n",
        "# Compute cosine similarity\n",
        "similarity = model.similarity(query_emb, document_embeddings)\n",
        "#print(similarity)\n",
        "top_idx = torch.argmax(similarity).item()\n",
        "\n",
        "# Retrieve the best match\n",
        "print(\"Best match:\", documents[top_idx])"
      ],
      "metadata": {
        "colab": {
          "base_uri": "https://localhost:8080/"
        },
        "id": "y3cYV-nlhgZ-",
        "outputId": "fba7d3bf-ee99-451c-abf6-d96fba2a9ba5"
      },
      "execution_count": 32,
      "outputs": [
        {
          "output_type": "stream",
          "name": "stdout",
          "text": [
            "Best match: The AddSpiral function adds a spiral or helical curve to the document. You provide the start and end points, pitch, number of turns, and starting and ending radii. This is useful for creating springs, ramps, or decorative elements. Make sure the parameters are set to match the desired spiral geometry.\n"
          ]
        }
      ]
    },
    {
      "cell_type": "code",
      "source": [
        "!zip -r /content/rhino_vector_store.zip /content/rhino_vector_store"
      ],
      "metadata": {
        "id": "ndBoBZSP24Rh"
      },
      "execution_count": null,
      "outputs": []
    },
    {
      "cell_type": "code",
      "source": [
        "from google.colab import files\n",
        "files.download('/content/rhino_vector_store.zip')"
      ],
      "metadata": {
        "colab": {
          "base_uri": "https://localhost:8080/",
          "height": 17
        },
        "collapsed": true,
        "id": "sDJs4pAk2Y81",
        "outputId": "4c48612c-9553-403f-f9f6-00111fe77c37"
      },
      "execution_count": 29,
      "outputs": [
        {
          "output_type": "display_data",
          "data": {
            "text/plain": [
              "<IPython.core.display.Javascript object>"
            ],
            "application/javascript": [
              "\n",
              "    async function download(id, filename, size) {\n",
              "      if (!google.colab.kernel.accessAllowed) {\n",
              "        return;\n",
              "      }\n",
              "      const div = document.createElement('div');\n",
              "      const label = document.createElement('label');\n",
              "      label.textContent = `Downloading \"${filename}\": `;\n",
              "      div.appendChild(label);\n",
              "      const progress = document.createElement('progress');\n",
              "      progress.max = size;\n",
              "      div.appendChild(progress);\n",
              "      document.body.appendChild(div);\n",
              "\n",
              "      const buffers = [];\n",
              "      let downloaded = 0;\n",
              "\n",
              "      const channel = await google.colab.kernel.comms.open(id);\n",
              "      // Send a message to notify the kernel that we're ready.\n",
              "      channel.send({})\n",
              "\n",
              "      for await (const message of channel.messages) {\n",
              "        // Send a message to notify the kernel that we're ready.\n",
              "        channel.send({})\n",
              "        if (message.buffers) {\n",
              "          for (const buffer of message.buffers) {\n",
              "            buffers.push(buffer);\n",
              "            downloaded += buffer.byteLength;\n",
              "            progress.value = downloaded;\n",
              "          }\n",
              "        }\n",
              "      }\n",
              "      const blob = new Blob(buffers, {type: 'application/binary'});\n",
              "      const a = document.createElement('a');\n",
              "      a.href = window.URL.createObjectURL(blob);\n",
              "      a.download = filename;\n",
              "      div.appendChild(a);\n",
              "      a.click();\n",
              "      div.remove();\n",
              "    }\n",
              "  "
            ]
          },
          "metadata": {}
        },
        {
          "output_type": "display_data",
          "data": {
            "text/plain": [
              "<IPython.core.display.Javascript object>"
            ],
            "application/javascript": [
              "download(\"download_3b46ac26-a3c6-4a2b-8f3a-79f30b74e4ba\", \"rhino_vector_store.zip\", 8147831)"
            ]
          },
          "metadata": {}
        }
      ]
    }
  ]
}